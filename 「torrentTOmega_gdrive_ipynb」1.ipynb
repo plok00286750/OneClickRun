{
  "nbformat": 4,
  "nbformat_minor": 0,
  "metadata": {
    "colab": {
      "name": "「torrentTOmega_gdrive_ipynb」的副本.ipynb",
      "provenance": [],
      "collapsed_sections": [
        "QRKdKW2SRc23",
        "FhSimpi68qbV",
        "6wktcwkWtHH0",
        "xa8RqAm2wozX",
        "rGgDHPbtYJBg",
        "PGMUhd7sVOY9",
        "63bRZrGJEZnI",
        "aknJQM1dqDqk",
        "3di4eNDqStBp",
        "C2--6Vt2uBIj",
        "9KIWnL2jCRB-",
        "kSvUMUuTPX7r",
        "yOnMe4O3jtXf",
        "NuyWhC0U_Dzv",
        "znqEQoWfTjGx",
        "AOrO7nJ_7wjh",
        "VDInERXVmnm8",
        "PE5J1UDzQXSp",
        "fJ7W2Z0gcYa5",
        "Ttv0CeCqLX0t",
        "7dTNq8TFD6a-",
        "SoxLe8ciEyAc",
        "c3cOMk38t8Zm",
        "7U8mMA7ZBRMl",
        "wZMZjX127rmx",
        "i5K4z5KBuGEx",
        "4rMlpsk3jv5r",
        "FVvFaJrZ0bxg",
        "qtAvLGCMBx1L",
        "gz_8S4IOni_1",
        "INCWjTDRLye6",
        "fhhDx-Svhrp3",
        "HsvEZZy0hrp6",
        "Z1YQc9zZ45wW",
        "yL1BRPGVwfbt",
        "1EP1o4UDLS6f",
        "bOOBrzjbEGo_"
      ],
      "toc_visible": true,
      "machine_shape": "hm",
      "include_colab_link": true
    },
    "kernelspec": {
      "name": "python3",
      "display_name": "Python 3"
    }
  },
  "cells": [
    {
      "cell_type": "markdown",
      "metadata": {
        "id": "view-in-github",
        "colab_type": "text"
      },
      "source": [
        "<a href=\"https://colab.research.google.com/github/plok00286750/OneClickRun/blob/master/%E3%80%8CtorrentTOmega_gdrive_ipynb%E3%80%8D1.ipynb\" target=\"_parent\"><img src=\"https://colab.research.google.com/assets/colab-badge.svg\" alt=\"Open In Colab\"/></a>"
      ]
    },
    {
      "cell_type": "markdown",
      "metadata": {
        "id": "QRKdKW2SRc23"
      },
      "source": [
        "# <center><a href=\"https://t.me/torrentToGM\"><img src='https://i.imgur.com/CLg6blO.png' height=\"70\" alt=\"Telegram Group\"/></a><a href=\"https://github.com/helloW3c/Google-Colab-CloudTorrent\"><img src='https://upload.wikimedia.org/wikipedia/commons/thumb/e/eb/Ei-sc-github.svg/768px-Ei-sc-github.svg.png' height=\"80\" alt=\"Github\"/></a><img src=\"https://hitcounter.pythonanywhere.com/count/tag.svg?url=https%3A%2F%2Fgithub.com%2FhelloW3c%2FGoogle-Colab-CloudTorrent\" alt=\"Hits\" align=\"right\"></center>"
      ]
    },
    {
      "cell_type": "markdown",
      "metadata": {
        "id": "o2wFxTv8czNX"
      },
      "source": [
        "___Preview___ <img src=\"https://media.giphy.com/media/3kIHVWVw2rDIfJyiN1/giphy.gif\" height=15px>\n",
        "![preview](https://raw.githubusercontent.com/helloW3c/Google-Colab-CloudTorrent/master/src/preview.gif)"
      ]
    },
    {
      "cell_type": "markdown",
      "metadata": {
        "id": "rnFLGfbepLQz"
      },
      "source": [
        "___aria2 Rpc Config Setup___ <img src=\"https://media.giphy.com/media/3kIHVWVw2rDIfJyiN1/giphy.gif\" height=15px>\n",
        "![preview](https://raw.githubusercontent.com/helloW3c/Google-Colab-CloudTorrent/master/src/aria2RpcConfigSetup.gif)"
      ]
    },
    {
      "cell_type": "markdown",
      "metadata": {
        "id": "lb45olSEmSNl"
      },
      "source": [
        "___SSH Preview___ <img src=\"https://media.giphy.com/media/3kIHVWVw2rDIfJyiN1/giphy.gif\" height=15px>\n",
        "![preview](https://raw.githubusercontent.com/helloW3c/Google-Colab-CloudTorrent/master/src/sshPreview.gif)"
      ]
    },
    {
      "cell_type": "markdown",
      "metadata": {
        "id": "sGFA1R3iYIqK"
      },
      "source": [
        "___Rclone config create___ <img src=\"https://media.giphy.com/media/3kIHVWVw2rDIfJyiN1/giphy.gif\" height=15px>\n",
        "![preview](https://raw.githubusercontent.com/helloW3c/Google-Colab-CloudTorrent/master/src/rclone_config_create.gif)"
      ]
    },
    {
      "cell_type": "markdown",
      "metadata": {
        "id": "EkjL0r6ouLD4"
      },
      "source": [
        "___L3MON DEMO___ <img src=\"https://media.giphy.com/media/3kIHVWVw2rDIfJyiN1/giphy.gif\" height=15px>\n",
        "![preview](https://raw.githubusercontent.com/helloW3c/Google-Colab-CloudTorrent/master/src/L3MON_DEMO.gif)"
      ]
    },
    {
      "cell_type": "markdown",
      "metadata": {
        "id": "yvcQmeGIfXGI"
      },
      "source": [
        "#`mountUmount(`<font size=\"3px\" color=\"#01c968\">`Gdrive`</font>`)`\n",
        "\n"
      ]
    },
    {
      "cell_type": "code",
      "metadata": {
        "id": "tPuLCnbGFmxo",
        "cellView": "form",
        "colab": {
          "base_uri": "https://localhost:8080/"
        },
        "outputId": "a1958cd0-b701-4c8f-ce84-4f9c5f903209"
      },
      "source": [
        "#@markdown <br><center><img src='https://upload.wikimedia.org/wikipedia/commons/thumb/d/da/Google_Drive_logo.png/600px-Google_Drive_logo.png' height=\"50\" alt=\"Gdrive-logo\"/></center>\n",
        "#@markdown <center><h3>Mount Gdrive to /content/drive</h3></center><br>\n",
        "MODE = \"MOUNT\" #@param [\"MOUNT\", \"UNMOUNT\"]\n",
        "#Mount your Gdrive! \n",
        "from google.colab import drive\n",
        "drive.mount._DEBUG = False\n",
        "if MODE == \"MOUNT\":\n",
        "  drive.mount('/content/drive', force_remount=True)\n",
        "elif MODE == \"UNMOUNT\":\n",
        "  try:\n",
        "    drive.flush_and_unmount()\n",
        "  except ValueError:\n",
        "    pass\n",
        "  get_ipython().system_raw(\"rm -rf /root/.config/Google/DriveFS\")"
      ],
      "execution_count": null,
      "outputs": [
        {
          "output_type": "stream",
          "text": [
            "Mounted at /content/drive\n"
          ],
          "name": "stdout"
        }
      ]
    },
    {
      "cell_type": "markdown",
      "metadata": {
        "id": "FhSimpi68qbV"
      },
      "source": [
        "#`torrentClients(`<font size=\"3px\" color=\"#4d90fe\">`SimpleTorrent` </font>,<font size=\"3px\" color=\"#f05832\"> `Peerflix-Server` </font>, <font size=\"3px\" color=\"#4f6a91\">`Deluge` </font>, <font size=\"3px\" color=\"#67a8ec\">`qBittorrent` </font>, <font size=\"3px\" color=\"#84be52\">`µTorrent`</font> , <font size=\"3px\" color=\"#3d3de5\">`rTorrent`</font> , <font size=\"3px\" color=\"#c70000\">`Transmission-Web-Control`</font> , <font size=\"3px\" color=\"#045c98\">`Vuze`</font>`)`\n",
        "\n",
        "\n"
      ]
    },
    {
      "cell_type": "markdown",
      "metadata": {
        "id": "V2TJGw35rxVm"
      },
      "source": [
        "### <font size=5px color=\"red\">✦ *Google Colab 突破90分钟自动断开:</font>\n",
        "<p><font size=3px > 每60分钟自动运行代码以刷新90分钟断开限制. 打开 developer-settings (在你的浏览器) 快速健 Ctrl+Shift+I 然后按console 输入以下代码 Enter. ( mac 按 Option+Command+I)</p><b>复制以下隐藏代码粉贴在浏览器console！！不要关闭浏览器以免失效</b>"
      ]
    },
    {
      "cell_type": "markdown",
      "metadata": {
        "id": "cWPU1en43Ym2"
      },
      "source": [
        "\n",
        "function ClickConnect(){\n",
        "  console.log(\"Working\"); \n",
        "  document\n",
        "    .querySelector(\"#top-toolbar > colab-connect-button\")\n",
        "    .shadowRoot\n",
        "    .querySelector(\"#connect\")\n",
        "    .click()\n",
        "}\n",
        " \n",
        "setInterval(ClickConnect,5*60000)"
      ]
    },
    {
      "cell_type": "code",
      "metadata": {
        "id": "i3D8AT00r99O",
        "cellView": "form"
      },
      "source": [
        "#@markdown <h3>← 输入了代码后运行以防止断开</h>\n",
        "\n",
        "\n",
        "import IPython\n",
        "from google.colab import output\n",
        "\n",
        "display(IPython.display.Javascript('''\n",
        " function ClickConnect(){\n",
        "   btn = document.querySelector(\"colab-connect-button\")\n",
        "   if (btn != null){\n",
        "     console.log(\"Click colab-connect-button\"); \n",
        "     btn.click() \n",
        "     }\n",
        "   \n",
        "   btn = document.getElementById('ok')\n",
        "   if (btn != null){\n",
        "     console.log(\"Click reconnect\"); \n",
        "     btn.click() \n",
        "     }\n",
        "  }\n",
        "  \n",
        "setInterval(ClickConnect,60000)\n",
        "'''))\n",
        "\n",
        "print(\"Done.\")"
      ],
      "execution_count": null,
      "outputs": []
    },
    {
      "cell_type": "markdown",
      "metadata": {
        "id": "PGMUhd7sVOY9"
      },
      "source": [
        "## <img src='https://helloW3c.github.io/RLabClone/img/title_qbittorrent.png' height=\"45\" alt=\"qBittorrent\"/> <font size=1px>_Enhanced Edition_</font>"
      ]
    },
    {
      "cell_type": "code",
      "metadata": {
        "id": "0oCsnKJK-VXb",
        "cellView": "form"
      },
      "source": [
        "# ============================= FORM ============================= #\n",
        "USE_FREE_TOKEN = False  # @param {type:\"boolean\"}\n",
        "TOKEN = \"1jGjPhbeL1pYZLkPIkic9xJ6xec_3ijddyeTPwJSGqtziwDEu\"  # @param {type:\"string\"}\n",
        "\n",
        "# ================================================================ #\n",
        "\n",
        "import os, psutil, time, urllib.request\n",
        "from IPython.display import HTML, clear_output\n",
        "\n",
        "HOME = os.path.expanduser(\"~\")\n",
        "\n",
        "if not os.path.exists(f\"{HOME}/.ipython/ttmg.py\"):\n",
        "    hCode = \"https://raw.githubusercontent.com/helloW3c/\" \\\n",
        "                \"Google-Colab-CloudTorrent/master/res/ttmg.py\"\n",
        "    urllib.request.urlretrieve(hCode, f\"{HOME}/.ipython/ttmg.py\")\n",
        "\n",
        "from ttmg import (\n",
        "    checkAvailable,\n",
        "    loadingAn,\n",
        "    PortForward_wrapper,\n",
        "    runSh,\n",
        "    displayUrl,\n",
        "    findProcess\n",
        ")\n",
        "\n",
        "def addUtils():\n",
        "    if not checkAvailable(\"/usr/local/sessionSettings\"):\n",
        "        runSh(\"mkdir -p -m 777 /usr/local/sessionSettings\")\n",
        "    if not checkAvailable(\"/content/upload.txt\"):\n",
        "        runSh(\"touch /content/upload.txt\")\n",
        "    if not checkAvailable(\"checkAptUpdate.txt\", userPath=True):\n",
        "        runSh(\"apt update -qq -y\")\n",
        "        runSh(\"apt-get install -y iputils-ping\")\n",
        "\n",
        "def configTimezone(auto=True):\n",
        "    if checkAvailable(\"timezone.txt\", userPath=True):\n",
        "        return\n",
        "    if not auto:\n",
        "        runSh(\"sudo dpkg-reconfigure tzdata\")\n",
        "    else:\n",
        "        runSh(\"sudo ln -fs /usr/share/zoneinfo/Asia/Ho_Chi_Minh /etc/localtime\")\n",
        "        runSh(\"sudo dpkg-reconfigure -f noninteractive tzdata\")\n",
        "\n",
        "def uploadQBittorrentConfig():\n",
        "    if checkAvailable(\"updatedQBSettings.txt\", userPath=True):\n",
        "        return\n",
        "    runSh(\n",
        "        \"mkdir -p -m 666 /content/qBittorrent /root/.qBittorrent_temp /root/.config/qBittorrent\"\n",
        "    )\n",
        "    runSh(\n",
        "        \"wget -qq https://raw.githubusercontent.com/helloW3c/RLabClone/master/res/qbittorrent/qBittorrent.conf \\\n",
        "            -O /root/.config/qBittorrent/qBittorrent.conf\"\n",
        "    )\n",
        "\n",
        "\n",
        "def prepareSession():\n",
        "    if checkAvailable(\"ready.txt\", userPath=True):\n",
        "        return\n",
        "    else:\n",
        "        addUtils()\n",
        "        configTimezone()\n",
        "        uploadQBittorrentConfig()\n",
        "\n",
        "def installQBittorrent():\n",
        "    if checkAvailable(\"/usr/bin/qbittorrent-nox\"):\n",
        "        return\n",
        "    else:\n",
        "        try:\n",
        "            runSh(\"add-apt-repository -y ppa:poplite/qbittorrent-enhanced\")\n",
        "            runSh(\"apt-get install qbittorrent-enhanced-nox -qq -y\")\n",
        "        except:\n",
        "            raise Exception('Error installing qbittorrent-enhanced-nox')\n",
        "\n",
        "def startQBService():\n",
        "    prepareSession()\n",
        "    installQBittorrent()\n",
        "    if not findProcess(\"qbittorrent-nox\", \"-d --webui-port\"):\n",
        "        runSh(f\"qbittorrent-nox -d --webui-port={QB_Port}\")\n",
        "        time.sleep(1)\n",
        "\n",
        "QB_Port = 10001\n",
        "loadingAn()\n",
        "startQBService()\n",
        "\n",
        "# START_SERVER\n",
        "# Ngrok region 'us','eu','ap','au','sa','jp','in'\n",
        "clear_output()\n",
        "PORT_FORWARD = \"ngrok\" #@param [\"ngrok\", \"localhost\"]\n",
        "server = PortForward_wrapper(\n",
        "    PORT_FORWARD, TOKEN, USE_FREE_TOKEN, [['qbittorrent', QB_Port, 'http']], 'sa', \n",
        "    [f\"{HOME}/.ngrok2/qbittorrent.yml\", 4088]\n",
        ").start('qbittorrent', displayB=False)\n",
        "displayUrl(server, pNamU='QBT_enhanced : ')\n"
      ],
      "execution_count": null,
      "outputs": []
    },
    {
      "cell_type": "markdown",
      "metadata": {
        "id": "m3IS9czQN86L"
      },
      "source": [
        "1jGjPhbeL1pYZLkPIkic9xJ6xec_3ijddyeTPwJSGqtziwDEu\n",
        "\n",
        "1jGjHxTSmBFwKhiaYNglNr8xEpF_3Zud4fq1J7nGh26xqYphV\n",
        "\n",
        "1ia3emUijZt8ZWLQfPTPOQxVsHp_38Z9dEJaTFE2JVkx7qZsJ\n",
        "\n",
        "1jLtCnasxcfe3mqLSXkFEJ27PtU_4hcvEjARJGdbar5ivTuYS\n",
        "\n",
        "1jLtGcSMDNVgz8aSVws9ArWFPpr_4DuBTR6Qsyc4P6PS9Kt4K\n",
        "\n",
        "1jLtKKK8nmLfCJ0gpiHsrWrvKeO_5cEqge9d9yxK5gAYfsKRj\n",
        "\n",
        "1jLtQYcVByikGDmTne9h7lBgH4r_5owBwYbq65Rt3pC727TWo\n",
        "\n",
        "1jLtTWtSQ4nHCCmJ3UgPdTTWQlx_7umyr3foKVv5st3fcNFgT\n",
        "\n",
        "1jLtWXIkeG9uWCpabEwn28gbtZm_45xGjsukHJxLuyFCkYuKn\n",
        "\n",
        "1nQ8ywH2tWW8CVUnHeY6BpChs1R_3n7EQcimLEMo85Edj1pvU\n",
        "\n",
        "1nQ98uL9F8YX8KMQ9vgEwKw7pLz_wv9nunpR3uWiUfwuMCdX\n"
      ]
    }
  ]
}